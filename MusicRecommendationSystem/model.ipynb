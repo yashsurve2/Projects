{
 "cells": [
  {
   "cell_type": "code",
   "execution_count": 28,
   "id": "091009d7",
   "metadata": {},
   "outputs": [],
   "source": [
    "import pandas as pd\n",
    "from sklearn.feature_extraction.text import TfidfVectorizer\n",
    "from sklearn.metrics.pairwise import cosine_similarity\n",
    "import pickle"
   ]
  },
  {
   "cell_type": "code",
   "execution_count": 29,
   "id": "5a691ddd",
   "metadata": {},
   "outputs": [],
   "source": [
    "df = pd.read_csv('songdata.csv')"
   ]
  },
  {
   "cell_type": "code",
   "execution_count": 30,
   "id": "291c709f",
   "metadata": {},
   "outputs": [
    {
     "data": {
      "text/html": [
       "<div>\n",
       "<style scoped>\n",
       "    .dataframe tbody tr th:only-of-type {\n",
       "        vertical-align: middle;\n",
       "    }\n",
       "\n",
       "    .dataframe tbody tr th {\n",
       "        vertical-align: top;\n",
       "    }\n",
       "\n",
       "    .dataframe thead th {\n",
       "        text-align: right;\n",
       "    }\n",
       "</style>\n",
       "<table border=\"1\" class=\"dataframe\">\n",
       "  <thead>\n",
       "    <tr style=\"text-align: right;\">\n",
       "      <th></th>\n",
       "      <th>artist</th>\n",
       "      <th>song</th>\n",
       "      <th>link</th>\n",
       "      <th>text</th>\n",
       "    </tr>\n",
       "  </thead>\n",
       "  <tbody>\n",
       "    <tr>\n",
       "      <th>0</th>\n",
       "      <td>ABBA</td>\n",
       "      <td>Ahe's My Kind Of Girl</td>\n",
       "      <td>/a/abba/ahes+my+kind+of+girl_20598417.html</td>\n",
       "      <td>Look at her face, it's a wonderful face  \\nAnd...</td>\n",
       "    </tr>\n",
       "    <tr>\n",
       "      <th>1</th>\n",
       "      <td>ABBA</td>\n",
       "      <td>Andante, Andante</td>\n",
       "      <td>/a/abba/andante+andante_20002708.html</td>\n",
       "      <td>Take it easy with me, please  \\nTouch me gentl...</td>\n",
       "    </tr>\n",
       "    <tr>\n",
       "      <th>2</th>\n",
       "      <td>ABBA</td>\n",
       "      <td>As Good As New</td>\n",
       "      <td>/a/abba/as+good+as+new_20003033.html</td>\n",
       "      <td>I'll never know why I had to go  \\nWhy I had t...</td>\n",
       "    </tr>\n",
       "    <tr>\n",
       "      <th>3</th>\n",
       "      <td>ABBA</td>\n",
       "      <td>Bang</td>\n",
       "      <td>/a/abba/bang_20598415.html</td>\n",
       "      <td>Making somebody happy is a question of give an...</td>\n",
       "    </tr>\n",
       "    <tr>\n",
       "      <th>4</th>\n",
       "      <td>ABBA</td>\n",
       "      <td>Bang-A-Boomerang</td>\n",
       "      <td>/a/abba/bang+a+boomerang_20002668.html</td>\n",
       "      <td>Making somebody happy is a question of give an...</td>\n",
       "    </tr>\n",
       "  </tbody>\n",
       "</table>\n",
       "</div>"
      ],
      "text/plain": [
       "  artist                   song                                        link  \\\n",
       "0   ABBA  Ahe's My Kind Of Girl  /a/abba/ahes+my+kind+of+girl_20598417.html   \n",
       "1   ABBA       Andante, Andante       /a/abba/andante+andante_20002708.html   \n",
       "2   ABBA         As Good As New        /a/abba/as+good+as+new_20003033.html   \n",
       "3   ABBA                   Bang                  /a/abba/bang_20598415.html   \n",
       "4   ABBA       Bang-A-Boomerang      /a/abba/bang+a+boomerang_20002668.html   \n",
       "\n",
       "                                                text  \n",
       "0  Look at her face, it's a wonderful face  \\nAnd...  \n",
       "1  Take it easy with me, please  \\nTouch me gentl...  \n",
       "2  I'll never know why I had to go  \\nWhy I had t...  \n",
       "3  Making somebody happy is a question of give an...  \n",
       "4  Making somebody happy is a question of give an...  "
      ]
     },
     "execution_count": 30,
     "metadata": {},
     "output_type": "execute_result"
    }
   ],
   "source": [
    "df.head()"
   ]
  },
  {
   "cell_type": "code",
   "execution_count": 31,
   "id": "8530c627",
   "metadata": {},
   "outputs": [
    {
     "data": {
      "text/html": [
       "<div>\n",
       "<style scoped>\n",
       "    .dataframe tbody tr th:only-of-type {\n",
       "        vertical-align: middle;\n",
       "    }\n",
       "\n",
       "    .dataframe tbody tr th {\n",
       "        vertical-align: top;\n",
       "    }\n",
       "\n",
       "    .dataframe thead th {\n",
       "        text-align: right;\n",
       "    }\n",
       "</style>\n",
       "<table border=\"1\" class=\"dataframe\">\n",
       "  <thead>\n",
       "    <tr style=\"text-align: right;\">\n",
       "      <th></th>\n",
       "      <th>artist</th>\n",
       "      <th>song</th>\n",
       "      <th>link</th>\n",
       "      <th>text</th>\n",
       "    </tr>\n",
       "  </thead>\n",
       "  <tbody>\n",
       "    <tr>\n",
       "      <th>57645</th>\n",
       "      <td>Ziggy Marley</td>\n",
       "      <td>Good Old Days</td>\n",
       "      <td>/z/ziggy+marley/good+old+days_10198588.html</td>\n",
       "      <td>Irie days come on play  \\nLet the angels fly l...</td>\n",
       "    </tr>\n",
       "    <tr>\n",
       "      <th>57646</th>\n",
       "      <td>Ziggy Marley</td>\n",
       "      <td>Hand To Mouth</td>\n",
       "      <td>/z/ziggy+marley/hand+to+mouth_20531167.html</td>\n",
       "      <td>Power to the workers  \\nMore power  \\nPower to...</td>\n",
       "    </tr>\n",
       "    <tr>\n",
       "      <th>57647</th>\n",
       "      <td>Zwan</td>\n",
       "      <td>Come With Me</td>\n",
       "      <td>/z/zwan/come+with+me_20148981.html</td>\n",
       "      <td>all you need  \\nis something i'll believe  \\nf...</td>\n",
       "    </tr>\n",
       "    <tr>\n",
       "      <th>57648</th>\n",
       "      <td>Zwan</td>\n",
       "      <td>Desire</td>\n",
       "      <td>/z/zwan/desire_20148986.html</td>\n",
       "      <td>northern star  \\nam i frightened  \\nwhere can ...</td>\n",
       "    </tr>\n",
       "    <tr>\n",
       "      <th>57649</th>\n",
       "      <td>Zwan</td>\n",
       "      <td>Heartsong</td>\n",
       "      <td>/z/zwan/heartsong_20148991.html</td>\n",
       "      <td>come in  \\nmake yourself at home  \\ni'm a bit ...</td>\n",
       "    </tr>\n",
       "  </tbody>\n",
       "</table>\n",
       "</div>"
      ],
      "text/plain": [
       "             artist           song  \\\n",
       "57645  Ziggy Marley  Good Old Days   \n",
       "57646  Ziggy Marley  Hand To Mouth   \n",
       "57647          Zwan   Come With Me   \n",
       "57648          Zwan         Desire   \n",
       "57649          Zwan      Heartsong   \n",
       "\n",
       "                                              link  \\\n",
       "57645  /z/ziggy+marley/good+old+days_10198588.html   \n",
       "57646  /z/ziggy+marley/hand+to+mouth_20531167.html   \n",
       "57647           /z/zwan/come+with+me_20148981.html   \n",
       "57648                 /z/zwan/desire_20148986.html   \n",
       "57649              /z/zwan/heartsong_20148991.html   \n",
       "\n",
       "                                                    text  \n",
       "57645  Irie days come on play  \\nLet the angels fly l...  \n",
       "57646  Power to the workers  \\nMore power  \\nPower to...  \n",
       "57647  all you need  \\nis something i'll believe  \\nf...  \n",
       "57648  northern star  \\nam i frightened  \\nwhere can ...  \n",
       "57649  come in  \\nmake yourself at home  \\ni'm a bit ...  "
      ]
     },
     "execution_count": 31,
     "metadata": {},
     "output_type": "execute_result"
    }
   ],
   "source": [
    "df.tail()"
   ]
  },
  {
   "cell_type": "code",
   "execution_count": 32,
   "id": "29981f05",
   "metadata": {},
   "outputs": [
    {
     "data": {
      "text/plain": [
       "(57650, 4)"
      ]
     },
     "execution_count": 32,
     "metadata": {},
     "output_type": "execute_result"
    }
   ],
   "source": [
    "df.shape"
   ]
  },
  {
   "cell_type": "code",
   "execution_count": 33,
   "id": "7c0edf73",
   "metadata": {},
   "outputs": [
    {
     "data": {
      "text/plain": [
       "artist    0\n",
       "song      0\n",
       "link      0\n",
       "text      0\n",
       "dtype: int64"
      ]
     },
     "execution_count": 33,
     "metadata": {},
     "output_type": "execute_result"
    }
   ],
   "source": [
    "df.isnull().sum()"
   ]
  },
  {
   "cell_type": "code",
   "execution_count": 34,
   "id": "fff9d5dd",
   "metadata": {},
   "outputs": [],
   "source": [
    "#Dropping link column\n",
    "df = df.sample(5000).drop('link', axis=1).reset_index(drop=True)"
   ]
  },
  {
   "cell_type": "code",
   "execution_count": 35,
   "id": "054c15d6",
   "metadata": {},
   "outputs": [
    {
     "data": {
      "text/html": [
       "<div>\n",
       "<style scoped>\n",
       "    .dataframe tbody tr th:only-of-type {\n",
       "        vertical-align: middle;\n",
       "    }\n",
       "\n",
       "    .dataframe tbody tr th {\n",
       "        vertical-align: top;\n",
       "    }\n",
       "\n",
       "    .dataframe thead th {\n",
       "        text-align: right;\n",
       "    }\n",
       "</style>\n",
       "<table border=\"1\" class=\"dataframe\">\n",
       "  <thead>\n",
       "    <tr style=\"text-align: right;\">\n",
       "      <th></th>\n",
       "      <th>artist</th>\n",
       "      <th>song</th>\n",
       "      <th>text</th>\n",
       "    </tr>\n",
       "  </thead>\n",
       "  <tbody>\n",
       "    <tr>\n",
       "      <th>0</th>\n",
       "      <td>Rihanna</td>\n",
       "      <td>Breakin Dishes</td>\n",
       "      <td>I don't know who you think I am  \\nI don't kno...</td>\n",
       "    </tr>\n",
       "    <tr>\n",
       "      <th>1</th>\n",
       "      <td>Face To Face</td>\n",
       "      <td>Don't Turn Away</td>\n",
       "      <td>god knows i've tried i've waited in spite of m...</td>\n",
       "    </tr>\n",
       "    <tr>\n",
       "      <th>2</th>\n",
       "      <td>Pat Benatar</td>\n",
       "      <td>Christmas In America</td>\n",
       "      <td>It's Christmas in America  \\nThere's carols in...</td>\n",
       "    </tr>\n",
       "    <tr>\n",
       "      <th>3</th>\n",
       "      <td>Il Divo</td>\n",
       "      <td>When A Child Is Born</td>\n",
       "      <td>[Sebastien:]  \\nA ray of hope flickers in the ...</td>\n",
       "    </tr>\n",
       "    <tr>\n",
       "      <th>4</th>\n",
       "      <td>Ella Fitzgerald</td>\n",
       "      <td>Blue Moon</td>\n",
       "      <td>Once upon a time  \\nBefore I took up smiling  ...</td>\n",
       "    </tr>\n",
       "  </tbody>\n",
       "</table>\n",
       "</div>"
      ],
      "text/plain": [
       "            artist                  song  \\\n",
       "0          Rihanna        Breakin Dishes   \n",
       "1     Face To Face       Don't Turn Away   \n",
       "2      Pat Benatar  Christmas In America   \n",
       "3          Il Divo  When A Child Is Born   \n",
       "4  Ella Fitzgerald             Blue Moon   \n",
       "\n",
       "                                                text  \n",
       "0  I don't know who you think I am  \\nI don't kno...  \n",
       "1  god knows i've tried i've waited in spite of m...  \n",
       "2  It's Christmas in America  \\nThere's carols in...  \n",
       "3  [Sebastien:]  \\nA ray of hope flickers in the ...  \n",
       "4  Once upon a time  \\nBefore I took up smiling  ...  "
      ]
     },
     "execution_count": 35,
     "metadata": {},
     "output_type": "execute_result"
    }
   ],
   "source": [
    "df.head()"
   ]
  },
  {
   "cell_type": "code",
   "execution_count": 36,
   "id": "3533f0ee",
   "metadata": {},
   "outputs": [
    {
     "data": {
      "text/plain": [
       "\"I don't know who you think I am  \\nI don't know who you think I am  \\nI don't know who you think I am  \\nI don't know who you think I am  \\n  \\nI don't know who you think I am  \\nI don't know who you think I am  \\nI don't know who you think I am  \\nI don't know who you think I am  \\n  \\nHe been gone since three thirty  \\nAnd coming home lately at three thirty  \\nI'm super cool I've been a fool  \\nBut now I'm hot and baby you gone get it  \\nNow I ain't tripping ah! I ain't twisting ah!  \\nI ain't demented ah! well just a lil' bit  \\nI'm kicking asses I'm taking names  \\nI'm on flame don't come home babe  \\n  \\nI'm breaking dishes up in here  \\nAll night (Oh-oh)  \\nI ain't go stop until I see police lights  \\nI'm a fight a man  \\nI'm a fight a man  \\nI'm a fight a man  \\n  \\nA man, a man, a ma-a-a-an  \\nA man, a man, a ma-a-a-an  \\n  \\nI'm still waiting, come through the door  \\nI am killing time, you know bleaching your clothes  \\nI am roasting marshmallows on the fire  \\nAnd what I am burning is your attire  \\nI am getting restless  \\nI am getting tested  \\nI can't believe he is always out all night and never checks in  \\nIs he cheating? Man I don't know  \\nI am looking around for something else to throw  \\n  \\nI'm breaking dishes up in here  \\nAll night (Uh-huh)  \\nI ain't go stop until I see police lights (Uh-huh)  \\nI'm a fight a man  \\nI'm a fight a man  \\nI'm a fight a man  \\n  \\nA man, a man, a ma-a-a-an  \\nA man, a man, a ma-a-a-an  \\nOhhhhh  \\n  \\nI don't know who you think I am (I am...)  \\nBut I really don't give a damn right now  \\nIf you don't come I am going to huff and puff and  \\nI'ma blow this blow this uh,  \\nI'ma blow this blow this uh,  \\nI'ma blow this house house down!  \\nDishes breaking dishes breaking  \\n  \\nI'm breaking dishes up in here  \\nAll night (Uh-huh)  \\nI ain't go stop until I see police lights (Uh-huh)  \\nI'm a fight a man  \\nI'm a fight a man  \\nI'm a fight a man  \\n  \\nA man, a man, a ma-a-a-an  \\nA man, a man, a ma-a-a-an  \\nA man, a man, a ma-a-a-an  \\nA man, a man, a ma-a-a-an  \\n  \\nBreaking breaking breaking  \\nDishes dishes dishes\\n\\n\""
      ]
     },
     "execution_count": 36,
     "metadata": {},
     "output_type": "execute_result"
    }
   ],
   "source": [
    "df['text'][0]"
   ]
  },
  {
   "cell_type": "code",
   "execution_count": 37,
   "id": "38e52e55",
   "metadata": {},
   "outputs": [],
   "source": [
    "#Text Cleaning\n",
    "df['text'] = df['text'].str.lower().replace(r'^\\w\\s','').replace(r'\\n','', regex = True)"
   ]
  },
  {
   "cell_type": "code",
   "execution_count": 38,
   "id": "71e1b173",
   "metadata": {},
   "outputs": [],
   "source": [
    "import nltk\n",
    "from nltk.stem.porter import PorterStemmer\n",
    "stemmer = PorterStemmer()\n",
    "\n",
    "def tokenization(txt):\n",
    "    tokens = nltk.word_tokenize(txt)\n",
    "    stemming = [stemmer.stem(w) for w in tokens]\n",
    "    return \"\".join(stemming)"
   ]
  },
  {
   "cell_type": "code",
   "execution_count": 39,
   "id": "c2bff0c7",
   "metadata": {},
   "outputs": [],
   "source": [
    "df['text'] = df['text'].apply(lambda x: tokenization(x))"
   ]
  },
  {
   "cell_type": "code",
   "execution_count": 40,
   "id": "6101d07d",
   "metadata": {},
   "outputs": [],
   "source": [
    "tfidvector = TfidfVectorizer(analyzer='word', stop_words='english')\n",
    "matrix = tfidvector.fit_transform(df['text'])\n",
    "similarity = cosine_similarity(matrix)"
   ]
  },
  {
   "cell_type": "code",
   "execution_count": 41,
   "id": "2a509046",
   "metadata": {},
   "outputs": [
    {
     "data": {
      "text/plain": [
       "array([1., 0., 0., ..., 0., 0., 0.])"
      ]
     },
     "execution_count": 41,
     "metadata": {},
     "output_type": "execute_result"
    }
   ],
   "source": [
    "similarity[0]"
   ]
  },
  {
   "cell_type": "code",
   "execution_count": 42,
   "id": "703f9ac9",
   "metadata": {},
   "outputs": [
    {
     "data": {
      "text/html": [
       "<div>\n",
       "<style scoped>\n",
       "    .dataframe tbody tr th:only-of-type {\n",
       "        vertical-align: middle;\n",
       "    }\n",
       "\n",
       "    .dataframe tbody tr th {\n",
       "        vertical-align: top;\n",
       "    }\n",
       "\n",
       "    .dataframe thead th {\n",
       "        text-align: right;\n",
       "    }\n",
       "</style>\n",
       "<table border=\"1\" class=\"dataframe\">\n",
       "  <thead>\n",
       "    <tr style=\"text-align: right;\">\n",
       "      <th></th>\n",
       "      <th>artist</th>\n",
       "      <th>song</th>\n",
       "      <th>text</th>\n",
       "    </tr>\n",
       "  </thead>\n",
       "  <tbody>\n",
       "    <tr>\n",
       "      <th>197</th>\n",
       "      <td>Kelly Clarkson</td>\n",
       "      <td>Hello</td>\n",
       "      <td>yeistumblintothenightwe'retouchbutifeellikeyou...</td>\n",
       "    </tr>\n",
       "    <tr>\n",
       "      <th>1730</th>\n",
       "      <td>Evanescence</td>\n",
       "      <td>Hello</td>\n",
       "      <td>playgroundschoolbellringagainraincloudcometopl...</td>\n",
       "    </tr>\n",
       "    <tr>\n",
       "      <th>4398</th>\n",
       "      <td>Electric Light Orchestra</td>\n",
       "      <td>Hello</td>\n",
       "      <td>hello,helloit'sgreattoseeyouoncagainit'sbeenso...</td>\n",
       "    </tr>\n",
       "  </tbody>\n",
       "</table>\n",
       "</div>"
      ],
      "text/plain": [
       "                        artist   song  \\\n",
       "197             Kelly Clarkson  Hello   \n",
       "1730               Evanescence  Hello   \n",
       "4398  Electric Light Orchestra  Hello   \n",
       "\n",
       "                                                   text  \n",
       "197   yeistumblintothenightwe'retouchbutifeellikeyou...  \n",
       "1730  playgroundschoolbellringagainraincloudcometopl...  \n",
       "4398  hello,helloit'sgreattoseeyouoncagainit'sbeenso...  "
      ]
     },
     "execution_count": 42,
     "metadata": {},
     "output_type": "execute_result"
    }
   ],
   "source": [
    "df[df['song'] == 'Hello']"
   ]
  },
  {
   "cell_type": "code",
   "execution_count": 43,
   "id": "23db074f",
   "metadata": {},
   "outputs": [],
   "source": [
    "def recommendation(song_df):\n",
    "    idx = df[df['song'] == song_df].index[0]\n",
    "    distances = sorted(list(enumerate(similarity[idx])),reverse=True,key=lambda x:x[1])\n",
    "    \n",
    "    songs = []\n",
    "    for m_id in distances[1:21]:\n",
    "        songs.append(df.iloc[m_id[0]].song)\n",
    "        \n",
    "    return songs"
   ]
  },
  {
   "cell_type": "code",
   "execution_count": 44,
   "id": "d5a1889f",
   "metadata": {},
   "outputs": [
    {
     "data": {
      "text/plain": [
       "['Lord Have Mercy',\n",
       " 'Happy Joyous Hanukkah',\n",
       " 'Lie To Me',\n",
       " 'Let It Die',\n",
       " 'Caught In A Trap',\n",
       " 'Ode To Solitude',\n",
       " 'One Single Flame',\n",
       " 'Lost Angel',\n",
       " 'Light My Fire',\n",
       " \"El Meod Na'ala\",\n",
       " 'One Sweet Day',\n",
       " 'Faith In Each Other',\n",
       " 'Automatic',\n",
       " 'I Feel Loved',\n",
       " 'Without You',\n",
       " 'Watchdogs',\n",
       " 'All Day',\n",
       " 'Hello Good Morning',\n",
       " 'Dead Skin Mask',\n",
       " 'Confide In Me']"
      ]
     },
     "execution_count": 44,
     "metadata": {},
     "output_type": "execute_result"
    }
   ],
   "source": [
    "recommendation('Hello')"
   ]
  },
  {
   "cell_type": "code",
   "execution_count": 45,
   "id": "f941070c",
   "metadata": {},
   "outputs": [],
   "source": [
    "pickle.dump(similarity,open('similarity.pkl','wb'))\n",
    "pickle.dump(df,open('df.pkl','wb'))"
   ]
  },
  {
   "cell_type": "code",
   "execution_count": null,
   "id": "8cf6e77d",
   "metadata": {},
   "outputs": [],
   "source": []
  }
 ],
 "metadata": {
  "kernelspec": {
   "display_name": "Python 3 (ipykernel)",
   "language": "python",
   "name": "python3"
  },
  "language_info": {
   "codemirror_mode": {
    "name": "ipython",
    "version": 3
   },
   "file_extension": ".py",
   "mimetype": "text/x-python",
   "name": "python",
   "nbconvert_exporter": "python",
   "pygments_lexer": "ipython3",
   "version": "3.11.4"
  }
 },
 "nbformat": 4,
 "nbformat_minor": 5
}
